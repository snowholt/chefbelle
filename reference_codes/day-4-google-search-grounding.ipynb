{
 "cells": [
  {
   "cell_type": "markdown",
   "metadata": {
    "id": "kokPyXQaY3xI"
   },
   "source": [
    "##### Copyright 2025 Google LLC."
   ]
  },
  {
   "cell_type": "code",
   "execution_count": 1,
   "metadata": {
    "cellView": "form",
    "execution": {
     "iopub.execute_input": "2025-04-03T09:58:12.317555Z",
     "iopub.status.busy": "2025-04-03T09:58:12.317175Z",
     "iopub.status.idle": "2025-04-03T09:58:12.340015Z",
     "shell.execute_reply": "2025-04-03T09:58:12.338893Z",
     "shell.execute_reply.started": "2025-04-03T09:58:12.317509Z"
    },
    "id": "StB_cTIkY1ZG",
    "jupyter": {
     "source_hidden": true
    }
   },
   "outputs": [],
   "source": [
    "# @title Licensed under the Apache License, Version 2.0 (the \"License\");\n",
    "# you may not use this file except in compliance with the License.\n",
    "# You may obtain a copy of the License at\n",
    "#\n",
    "# https://www.apache.org/licenses/LICENSE-2.0\n",
    "#\n",
    "# Unless required by applicable law or agreed to in writing, software\n",
    "# distributed under the License is distributed on an \"AS IS\" BASIS,\n",
    "# WITHOUT WARRANTIES OR CONDITIONS OF ANY KIND, either express or implied.\n",
    "# See the License for the specific language governing permissions and\n",
    "# limitations under the License."
   ]
  },
  {
   "cell_type": "markdown",
   "metadata": {
    "id": "q-mcOl0JY8Xg"
   },
   "source": [
    "# Day 4 - Google Search grounding with the Gemini API\n",
    "\n",
    "Welcome back to the Kaggle 5-day Generative AI course!\n",
    "\n",
    "In this optional notebook, you will use [Google Search](https://google.com/) results with the Gemini API in a technique called grounding, where the model is connected to verifiable sources of information. Using search grounding is similar to using the RAG system you implemented earlier in the week, but the Gemini API automates a lot of it for you. The model generates Google Search queries and invokes the searches automatically, retrieving relevant data from Google's index of the web and providing links to search suggestions that support the query, so your users can verify the sources.\n",
    "\n",
    "## New in Gemini 2.0\n",
    "\n",
    "Gemini 2.0 Flash provides a generous Google Search quota as part of the [free tier](https://ai.google.dev/pricing). If you switch models back to 1.5, you will need to [enable billing](https://aistudio.google.com/apikey) to use Grounding with Google Search, or you can [try it out in AI Studio](https://aistudio.google.com/). See the [earlier versions of this notebook](https://www.kaggle.com/code/markishere/day-4-google-search-grounding?scriptVersionId=207458162) for guidance. "
   ]
  },
  {
   "attachments": {},
   "cell_type": "markdown",
   "metadata": {},
   "source": [
    "## Optional: Use Google AI Studio\n",
    "\n",
    "If you wish to try out grounding with Google Search, follow this section to try it out using the AI Studio interface. Or skip ahead to the `API` section to try the feature here in your notebook.\n",
    "\n",
    "### Open AI Studio\n",
    "\n",
    "Start by going to [AI Studio](https://aistudio.google.com/prompts/new_chat). You should be in the \"New chat\" interface.\n",
    "\n",
    "Search Grounding is best with `gemini-2.0-flash`, but try out `gemini-1.5-flash` too.\n",
    "\n",
    "![New chat in AI Studio](https://storage.googleapis.com/generativeai-downloads/kaggle/ais-newchat.png)\n",
    "\n",
    "### Ask a question\n",
    "\n",
    "Now enter a prompt into the chat interface. Try asking something that is timely and might require recent information to answer, like a recent sport score. For this query, grounding will be **disabled** by default.\n",
    "\n",
    "This screenshow shows the response for `What were the top halloween costumes this year?`. Every execution will be different but typically the model talks about 2023, and hedges its responses saying it doesn't have access to specific information resulting in a general comment, rather than specific answers.\n",
    "\n",
    "![Sample question-answer pair without grounding](https://storage.googleapis.com/generativeai-downloads/kaggle/cricket-ungrounded.png)\n",
    "\n",
    "### Enable grounding\n",
    "\n",
    "On the right-hand sidebar, under the `Tools` section. Find and enable the `Grounding` option.\n",
    "\n",
    "![Enable grounding button](https://storage.googleapis.com/generativeai-downloads/kaggle/enable-grounding.png)\n",
    "\n",
    "Now re-run your question by hovering over the user prompt in the chat history, and pressing the Gemini ✨ icon to re-run your prompt.\n",
    "\n",
    "![Re-run prompt button](https://storage.googleapis.com/generativeai-downloads/kaggle/re-run-button.png)\n",
    "\n",
    "You should now see a response generated that references sources from Google Search.\n",
    "\n",
    "![Response with grounded sources from Google!](https://storage.googleapis.com/generativeai-downloads/kaggle/cricket-grounded.png)\n",
    "\n",
    "\n",
    "### Try your own queries\n",
    "\n",
    "Explore this interface and try some other queries. Share what works well in the [Discord](https://discord.com/channels/1101210829807956100/1303438361117069363)! You can start from [this blank template](https://aistudio.google.com/app/prompts/1FZtxKLFZIJ1p_0rICu8K2CNIF1tkAnf4) that has search grounding enabled.\n",
    "\n",
    "The remaining steps require an API key with billing enabled. They are not required to complete this course; if you have tried grounding in AI Studio you are done for this notebook."
   ]
  },
  {
   "cell_type": "markdown",
   "metadata": {
    "id": "Qcyq976Gbwpo"
   },
   "source": [
    "## Use the API\n",
    "\n",
    "Start by installing and importing the Gemini API Python SDK."
   ]
  },
  {
   "cell_type": "code",
   "execution_count": 2,
   "metadata": {
    "execution": {
     "iopub.execute_input": "2025-04-03T09:58:12.343300Z",
     "iopub.status.busy": "2025-04-03T09:58:12.342823Z",
     "iopub.status.idle": "2025-04-03T09:58:30.659520Z",
     "shell.execute_reply": "2025-04-03T09:58:30.658231Z",
     "shell.execute_reply.started": "2025-04-03T09:58:12.343251Z"
    },
    "id": "1ZLC4ORSbqme"
   },
   "outputs": [],
   "source": [
    "# Uninstall packages from Kaggle base image that are not needed.\n",
    "!pip uninstall -qy jupyterlab jupyterlab-lsp\n",
    "# Install the google-genai SDK for this codelab.\n",
    "!pip install -qU 'google-genai==1.7.0'"
   ]
  },
  {
   "cell_type": "code",
   "execution_count": 3,
   "metadata": {
    "execution": {
     "iopub.execute_input": "2025-04-03T09:58:30.661416Z",
     "iopub.status.busy": "2025-04-03T09:58:30.661065Z",
     "iopub.status.idle": "2025-04-03T09:58:31.952191Z",
     "shell.execute_reply": "2025-04-03T09:58:31.951108Z",
     "shell.execute_reply.started": "2025-04-03T09:58:30.661383Z"
    },
    "id": "FNkHtOAmbt2B"
   },
   "outputs": [
    {
     "data": {
      "text/plain": [
       "'1.7.0'"
      ]
     },
     "execution_count": 3,
     "metadata": {},
     "output_type": "execute_result"
    }
   ],
   "source": [
    "from google import genai\n",
    "from google.genai import types\n",
    "\n",
    "from IPython.display import Markdown, HTML, display\n",
    "\n",
    "genai.__version__"
   ]
  },
  {
   "cell_type": "markdown",
   "metadata": {
    "id": "_NO9cdffb4KR"
   },
   "source": [
    "### Set up your API key\n",
    "\n",
    "To run the following cell, your API key must be stored it in a [Kaggle secret](https://www.kaggle.com/discussions/product-feedback/114053) named `GOOGLE_API_KEY`.\n",
    "\n",
    "If you don't already have an API key, you can grab one from [AI Studio](https://aistudio.google.com/app/apikey). You can find [detailed instructions in the docs](https://ai.google.dev/gemini-api/docs/api-key).\n",
    "\n",
    "To make the key available through Kaggle secrets, choose `Secrets` from the `Add-ons` menu and follow the instructions to add your key or enable it for this notebook."
   ]
  },
  {
   "cell_type": "code",
   "execution_count": 4,
   "metadata": {
    "execution": {
     "iopub.execute_input": "2025-04-03T09:58:31.954128Z",
     "iopub.status.busy": "2025-04-03T09:58:31.953579Z",
     "iopub.status.idle": "2025-04-03T09:58:32.184023Z",
     "shell.execute_reply": "2025-04-03T09:58:32.182796Z",
     "shell.execute_reply.started": "2025-04-03T09:58:31.954086Z"
    },
    "id": "8NAmACYHb5DK"
   },
   "outputs": [],
   "source": [
    "from kaggle_secrets import UserSecretsClient\n",
    "\n",
    "GOOGLE_API_KEY = UserSecretsClient().get_secret(\"GOOGLE_API_KEY\")\n",
    "\n",
    "client = genai.Client(api_key=GOOGLE_API_KEY)"
   ]
  },
  {
   "attachments": {},
   "cell_type": "markdown",
   "metadata": {
    "id": "cfb5d41c4a03"
   },
   "source": [
    "If you received an error response along the lines of `No user secrets exist for kernel id ...`, then you need to add your API key via `Add-ons`, `Secrets` **and** enable it.\n",
    "\n",
    "![Screenshot of the checkbox to enable GOOGLE_API_KEY secret](https://storage.googleapis.com/kaggle-media/Images/5gdai_sc_3.png)"
   ]
  },
  {
   "cell_type": "markdown",
   "metadata": {},
   "source": [
    "### Automated retry"
   ]
  },
  {
   "cell_type": "code",
   "execution_count": 5,
   "metadata": {
    "execution": {
     "iopub.execute_input": "2025-04-03T09:58:32.185642Z",
     "iopub.status.busy": "2025-04-03T09:58:32.185293Z",
     "iopub.status.idle": "2025-04-03T09:58:32.361998Z",
     "shell.execute_reply": "2025-04-03T09:58:32.361142Z",
     "shell.execute_reply.started": "2025-04-03T09:58:32.185590Z"
    }
   },
   "outputs": [],
   "source": [
    "# Define a retry policy. The model might make multiple consecutive calls automatically\n",
    "# for a complex query, this ensures the client retries if it hits quota limits.\n",
    "from google.api_core import retry\n",
    "\n",
    "is_retriable = lambda e: (isinstance(e, genai.errors.APIError) and e.code in {429, 503})\n",
    "\n",
    "if not hasattr(genai.models.Models.generate_content, '__wrapped__'):\n",
    "  genai.models.Models.generate_content = retry.Retry(\n",
    "      predicate=is_retriable)(genai.models.Models.generate_content)"
   ]
  },
  {
   "cell_type": "markdown",
   "metadata": {
    "id": "Rvre6fOrcHi2"
   },
   "source": [
    "## Use search grounding\n",
    "\n",
    "### Model support\n",
    "\n",
    "Search grounding is available in a limited set of models. Find a model that supports it on [the models page](https://ai.google.dev/gemini-api/docs/models/gemini).\n",
    "\n",
    "In this guide, you'll use `gemini-2.0-flash`."
   ]
  },
  {
   "cell_type": "markdown",
   "metadata": {
    "id": "HW5RVNUierrQ"
   },
   "source": [
    "### Make a request\n",
    "\n",
    "To enable search grounding, you specify it as a tool: `google_search`. Like other tools, this is supplied as a parameter in `GenerateContentConfig`, and can be passed to `generate_content` calls as well as `chats.create` (for all chat turns) or `chat.send_message` (for specific turns).\n",
    "\n",
    "\n",
    "<table align=left>\n",
    "  <td>\n",
    "    <a target=\"_blank\" href=\"https://aistudio.google.com/app/prompts/1GTkO-gH4vd6G7LpBJ6Ay7U1OaJer7yDD\"><img src=\"https://ai.google.dev/site-assets/images/marketing/home/icon-ais.png\" style=\"height: 24px\" height=24/> Open in AI Studio</a>\n",
    "  </td>\n",
    "</table>"
   ]
  },
  {
   "cell_type": "code",
   "execution_count": 6,
   "metadata": {
    "execution": {
     "iopub.execute_input": "2025-04-03T09:58:32.363783Z",
     "iopub.status.busy": "2025-04-03T09:58:32.363299Z",
     "iopub.status.idle": "2025-04-03T09:58:33.200317Z",
     "shell.execute_reply": "2025-04-03T09:58:33.199271Z",
     "shell.execute_reply.started": "2025-04-03T09:58:32.363749Z"
    },
    "id": "JZmdaOlVfCgd"
   },
   "outputs": [
    {
     "data": {
      "text/markdown": [
       "Unfortunately, Billie Eilish doesn't have any upcoming concerts planned for 2024. She wrapped up her \"Happier Than Ever\" tour in 2023 and hasn't announced any new tour dates. For up-to-date information, I recommend checking her official website and social media channels.\n"
      ],
      "text/plain": [
       "<IPython.core.display.Markdown object>"
      ]
     },
     "execution_count": 6,
     "metadata": {},
     "output_type": "execute_result"
    }
   ],
   "source": [
    "# Ask for information without search grounding.\n",
    "response = client.models.generate_content(\n",
    "    model='gemini-2.0-flash',\n",
    "    contents=\"When and where is Billie Eilish's next concert?\")\n",
    "\n",
    "Markdown(response.text)"
   ]
  },
  {
   "cell_type": "markdown",
   "metadata": {},
   "source": [
    "Now try with grounding enabled.\n",
    "\n",
    "<table align=left>\n",
    "  <td>\n",
    "    <a target=\"_blank\" href=\"https://aistudio.google.com/prompts/14lDR0VjSni6BEUCZUBqj5PzTn3J194Th\"><img src=\"https://ai.google.dev/site-assets/images/marketing/home/icon-ais.png\" style=\"height: 24px\" height=24/> Open in AI Studio</a>\n",
    "  </td>\n",
    "</table>"
   ]
  },
  {
   "cell_type": "code",
   "execution_count": 59,
   "metadata": {
    "execution": {
     "iopub.execute_input": "2025-04-03T10:06:10.714952Z",
     "iopub.status.busy": "2025-04-03T10:06:10.714532Z",
     "iopub.status.idle": "2025-04-03T10:06:12.996772Z",
     "shell.execute_reply": "2025-04-03T10:06:12.995712Z",
     "shell.execute_reply.started": "2025-04-03T10:06:10.714915Z"
    },
    "id": "i7jqG3nww6kU"
   },
   "outputs": [
    {
     "data": {
      "text/markdown": [
       "Billie Eilish is currently on her \"HIT ME HARD AND SOFT: THE TOUR\". According to available information, her next concerts are:\n",
       "\n",
       "*   **April 23, 2025:** Avicii Arena, Stockholm, Sweden\n",
       "*   **April 24, 2025:** Avicii Arena, Stockholm, Sweden\n",
       "*   **April 26, 2025:** Unity Arena, Fornebu, Norway\n",
       "*   **April 28, 2025:** Royal Arena, Copenhagen, Denmark\n",
       "*   **April 29, 2025:** Royal Arena, Copenhagen, Denmark\n",
       "\n",
       "The tour continues through Europe and concludes on July 27, 2025, at the 3Arena in Dublin.\n"
      ],
      "text/plain": [
       "<IPython.core.display.Markdown object>"
      ]
     },
     "execution_count": 59,
     "metadata": {},
     "output_type": "execute_result"
    }
   ],
   "source": [
    "# And now re-run the same query with search grounding enabled.\n",
    "config_with_search = types.GenerateContentConfig(\n",
    "    tools=[types.Tool(google_search=types.GoogleSearch())],\n",
    ")\n",
    "\n",
    "def query_with_grounding():\n",
    "    response = client.models.generate_content(\n",
    "        model='gemini-2.0-flash',\n",
    "        contents=\"When and where is Billie Eilish's next concert?\",\n",
    "        config=config_with_search,\n",
    "    )\n",
    "    return response.candidates[0]\n",
    "\n",
    "\n",
    "rc = query_with_grounding()\n",
    "Markdown(rc.content.parts[0].text)"
   ]
  },
  {
   "cell_type": "markdown",
   "metadata": {
    "id": "SJc_0FFBgoiJ"
   },
   "source": [
    "### Response metadata\n",
    "\n",
    "When search grounding is used, the model returns extra metadata that includes links to search suggestions, supporting documents and information on how the supporting documents were used.\n",
    "\n",
    "Each \"grounding chunk\" represents information retrieved from Google Search that was used in the grounded generation request. Following the URI will take you to the source."
   ]
  },
  {
   "cell_type": "code",
   "execution_count": 60,
   "metadata": {
    "execution": {
     "iopub.execute_input": "2025-04-03T10:06:16.348902Z",
     "iopub.status.busy": "2025-04-03T10:06:16.348495Z",
     "iopub.status.idle": "2025-04-03T10:06:16.355194Z",
     "shell.execute_reply": "2025-04-03T10:06:16.354002Z",
     "shell.execute_reply.started": "2025-04-03T10:06:16.348868Z"
    },
    "id": "2P7IYMcvxtcy"
   },
   "outputs": [
    {
     "name": "stdout",
     "output_type": "stream",
     "text": [
      "theo2.co.uk: https://vertexaisearch.cloud.google.com/grounding-api-redirect/AWQVqAIhSi4TFtQiZvzhIp25MzmBl-IucHKcCxP0DNLMBC_CYMPAORUppqIbT8ntzsb96HYNKNWqGCCLVnDJBj5Vl7ZYVAnk3qiKhmEzTU49g9fkW3UA6MxGVMUiThZu0-O6f7AjDGVFSdCiVFBvzyKucbkCea4erKKU0l9QUb6bkxDeaRcfiV4-_5nqhW8z\n",
      "ticketmaster.co.uk: https://vertexaisearch.cloud.google.com/grounding-api-redirect/AWQVqAJDHV4V-uxBpPDD6ZwD56bOf3HMLV3iKJof-v0rM1cxqEVCCf6zxQvW2ctOwYtwx7014qORj6CJmR-N9alL6TNBHa_H0JUY5hLsN4hLD_oljsvAIXcRGNpDh7XU_rVXOYpM-k6j0T0JOX7FTn5hVBPIBHDnARMd2se78ZJcIA==\n",
      "ticketmaster.com: https://vertexaisearch.cloud.google.com/grounding-api-redirect/AWQVqAKeOZxsSUyYugFxkkWDj-EbsetgfMn-Ircws4BKF8UtCYZaE6_AX3DBFYefGMcpGZ1HXPEs14z9GLk78MEhQ1QbdYGeoPnbk7iQ4IFR06Z7s30wsT8oNeQ0396aEAHJdSRv5jT2jPevF9qnlpwOnDBheo8kjlDBgsfaM4A=\n",
      "wikipedia.org: https://vertexaisearch.cloud.google.com/grounding-api-redirect/AWQVqALJOCS2gzwt609gBLiuDuASljmZcY9RO1bNt5y6IKL9048GywRSpz813EINqAmpiXIwtPpGs0aeAuE_TSnHtgdpua3R31DNds8cIjhMRD6OdwD1-d5bo37ZhQNzGxOwsOnM0KC83BtjITHEwNvHyaVaT8Iqj20G\n",
      "billieeilish.com: https://vertexaisearch.cloud.google.com/grounding-api-redirect/AWQVqAJEDrl0vHGQ73UHwtVawwB4bcIrk4FWN09mI-aSVjONPDGddKnwNHt54r8FR5bJN8IK4ZBgSK_2kt50koeW7TmCfJUhdP4-K_Qkto_5MN1vEk6i5jXEIs5cg9G_qYWvIv2QhKo=\n",
      "songkick.com: https://vertexaisearch.cloud.google.com/grounding-api-redirect/AWQVqALXgsS4nJNMDq7OJwub17E6zQdldorOjaKHa9wkW4fBeOqP0ItpnISvzfA03NWDuKoJxda31xyA46N6kR0Yi6pzaqldCnBY4IqMgWXvfu_MuM6LUHOm7cDfqNqAf5nymrdiSo3dCKHFunlrkeSSQ2-I\n"
     ]
    }
   ],
   "source": [
    "while not rc.grounding_metadata.grounding_supports or not rc.grounding_metadata.grounding_chunks:\n",
    "    # If incomplete grounding data was returned, retry.\n",
    "    rc = query_with_grounding()\n",
    "\n",
    "chunks = rc.grounding_metadata.grounding_chunks\n",
    "for chunk in chunks:\n",
    "    print(f'{chunk.web.title}: {chunk.web.uri}')"
   ]
  },
  {
   "cell_type": "markdown",
   "metadata": {
    "id": "ziYb2Fkjzwwx"
   },
   "source": [
    "As part of the response, there is a standalone styled HTML content block that you use to link back to relevant search suggestions related to the generation."
   ]
  },
  {
   "cell_type": "code",
   "execution_count": null,
   "metadata": {
    "execution": {
     "iopub.status.busy": "2025-04-03T09:51:45.325784Z",
     "iopub.status.idle": "2025-04-03T09:51:45.326372Z",
     "shell.execute_reply": "2025-04-03T09:51:45.326106Z",
     "shell.execute_reply.started": "2025-04-03T09:51:45.326076Z"
    },
    "id": "DQAgIGJmfxqC"
   },
   "outputs": [],
   "source": [
    "HTML(rc.grounding_metadata.search_entry_point.rendered_content)"
   ]
  },
  {
   "cell_type": "markdown",
   "metadata": {
    "id": "pJpqJopp0H0M"
   },
   "source": [
    "The `grounding_supports` in the metadata provide a way for you to correlate the grounding chunks used to the generated output text."
   ]
  },
  {
   "cell_type": "code",
   "execution_count": 61,
   "metadata": {
    "execution": {
     "iopub.execute_input": "2025-04-03T10:06:19.448041Z",
     "iopub.status.busy": "2025-04-03T10:06:19.447653Z",
     "iopub.status.idle": "2025-04-03T10:06:19.455269Z",
     "shell.execute_reply": "2025-04-03T10:06:19.454225Z",
     "shell.execute_reply.started": "2025-04-03T10:06:19.448006Z"
    },
    "id": "sHg9Yq9U0r89"
   },
   "outputs": [
    {
     "name": "stdout",
     "output_type": "stream",
     "text": [
      "{'confidence_scores': [0.9238536, 0.63184303, 0.7186428, 0.7688701],\n",
      " 'grounding_chunk_indices': [0, 1, 2, 3],\n",
      " 'segment': {'end_index': 67,\n",
      "             'text': 'Billie Eilish is currently on her \"HIT ME HARD AND SOFT: '\n",
      "                     'THE TOUR\".'}}\n",
      "{'confidence_scores': [0.65632933],\n",
      " 'grounding_chunk_indices': [2],\n",
      " 'segment': {'end_index': 183,\n",
      "             'start_index': 128,\n",
      "             'text': '*   **April 23, 2025:** Avicii Arena, Stockholm, Sweden'}}\n",
      "{'confidence_scores': [0.7851307, 0.69624656, 0.6140977],\n",
      " 'grounding_chunk_indices': [4, 5, 2],\n",
      " 'segment': {'end_index': 292,\n",
      "             'start_index': 240,\n",
      "             'text': '*   **April 26, 2025:** Unity Arena, Fornebu, Norway'}}\n",
      "{'confidence_scores': [0.604772],\n",
      " 'grounding_chunk_indices': [2],\n",
      " 'segment': {'end_index': 349,\n",
      "             'start_index': 293,\n",
      "             'text': '*   **April 28, 2025:** Royal Arena, Copenhagen, '\n",
      "                     'Denmark'}}\n",
      "{'confidence_scores': [0.63103974, 0.6163921],\n",
      " 'grounding_chunk_indices': [5, 2],\n",
      " 'segment': {'end_index': 406,\n",
      "             'start_index': 350,\n",
      "             'text': '*   **April 29, 2025:** Royal Arena, Copenhagen, '\n",
      "                     'Denmark'}}\n",
      "{'confidence_scores': [0.9062436, 0.60820603],\n",
      " 'grounding_chunk_indices': [3, 1],\n",
      " 'segment': {'end_index': 498,\n",
      "             'start_index': 408,\n",
      "             'text': 'The tour continues through Europe and concludes on July '\n",
      "                     '27, 2025, at the 3Arena in Dublin.'}}\n"
     ]
    }
   ],
   "source": [
    "from pprint import pprint\n",
    "\n",
    "supports = rc.grounding_metadata.grounding_supports\n",
    "for support in supports:\n",
    "    pprint(support.to_json_dict())"
   ]
  },
  {
   "cell_type": "markdown",
   "metadata": {
    "id": "wkQAGyi87FGn"
   },
   "source": [
    "These supports can be used to highlight text in the response, or build tables of footnotes."
   ]
  },
  {
   "cell_type": "code",
   "execution_count": 62,
   "metadata": {
    "execution": {
     "iopub.execute_input": "2025-04-03T10:06:21.641418Z",
     "iopub.status.busy": "2025-04-03T10:06:21.640644Z",
     "iopub.status.idle": "2025-04-03T10:06:21.650514Z",
     "shell.execute_reply": "2025-04-03T10:06:21.649420Z",
     "shell.execute_reply.started": "2025-04-03T10:06:21.641377Z"
    },
    "id": "9_dEINt43C62"
   },
   "outputs": [
    {
     "data": {
      "text/markdown": [
       "Supported text:\n",
       "\n",
       " * Billie Eilish is currently on her \"HIT ME HARD AND SOFT: THE TOUR\".<sup>[1]</sup><sup>[2]</sup><sup>[3]</sup><sup>[4]</sup>\n",
       "\n",
       " * *   **April 23, 2025:** Avicii Arena, Stockholm, Sweden<sup>[3]</sup>\n",
       "\n",
       " * *   **April 26, 2025:** Unity Arena, Fornebu, Norway<sup>[5]</sup><sup>[6]</sup><sup>[3]</sup>\n",
       "\n",
       " * *   **April 28, 2025:** Royal Arena, Copenhagen, Denmark<sup>[3]</sup>\n",
       "\n",
       " * *   **April 29, 2025:** Royal Arena, Copenhagen, Denmark<sup>[6]</sup><sup>[3]</sup>\n",
       "\n",
       " * The tour continues through Europe and concludes on July 27, 2025, at the 3Arena in Dublin.<sup>[4]</sup><sup>[2]</sup>\n",
       "\n",
       "Citations:\n",
       "\n",
       "1. [theo2.co.uk](https://vertexaisearch.cloud.google.com/grounding-api-redirect/AWQVqAIhSi4TFtQiZvzhIp25MzmBl-IucHKcCxP0DNLMBC_CYMPAORUppqIbT8ntzsb96HYNKNWqGCCLVnDJBj5Vl7ZYVAnk3qiKhmEzTU49g9fkW3UA6MxGVMUiThZu0-O6f7AjDGVFSdCiVFBvzyKucbkCea4erKKU0l9QUb6bkxDeaRcfiV4-_5nqhW8z)\n",
       "2. [ticketmaster.co.uk](https://vertexaisearch.cloud.google.com/grounding-api-redirect/AWQVqAJDHV4V-uxBpPDD6ZwD56bOf3HMLV3iKJof-v0rM1cxqEVCCf6zxQvW2ctOwYtwx7014qORj6CJmR-N9alL6TNBHa_H0JUY5hLsN4hLD_oljsvAIXcRGNpDh7XU_rVXOYpM-k6j0T0JOX7FTn5hVBPIBHDnARMd2se78ZJcIA==)\n",
       "3. [ticketmaster.com](https://vertexaisearch.cloud.google.com/grounding-api-redirect/AWQVqAKeOZxsSUyYugFxkkWDj-EbsetgfMn-Ircws4BKF8UtCYZaE6_AX3DBFYefGMcpGZ1HXPEs14z9GLk78MEhQ1QbdYGeoPnbk7iQ4IFR06Z7s30wsT8oNeQ0396aEAHJdSRv5jT2jPevF9qnlpwOnDBheo8kjlDBgsfaM4A=)\n",
       "4. [wikipedia.org](https://vertexaisearch.cloud.google.com/grounding-api-redirect/AWQVqALJOCS2gzwt609gBLiuDuASljmZcY9RO1bNt5y6IKL9048GywRSpz813EINqAmpiXIwtPpGs0aeAuE_TSnHtgdpua3R31DNds8cIjhMRD6OdwD1-d5bo37ZhQNzGxOwsOnM0KC83BtjITHEwNvHyaVaT8Iqj20G)\n",
       "5. [billieeilish.com](https://vertexaisearch.cloud.google.com/grounding-api-redirect/AWQVqAJEDrl0vHGQ73UHwtVawwB4bcIrk4FWN09mI-aSVjONPDGddKnwNHt54r8FR5bJN8IK4ZBgSK_2kt50koeW7TmCfJUhdP4-K_Qkto_5MN1vEk6i5jXEIs5cg9G_qYWvIv2QhKo=)\n",
       "6. [songkick.com](https://vertexaisearch.cloud.google.com/grounding-api-redirect/AWQVqALXgsS4nJNMDq7OJwub17E6zQdldorOjaKHa9wkW4fBeOqP0ItpnISvzfA03NWDuKoJxda31xyA46N6kR0Yi6pzaqldCnBY4IqMgWXvfu_MuM6LUHOm7cDfqNqAf5nymrdiSo3dCKHFunlrkeSSQ2-I)\n"
      ],
      "text/plain": [
       "<IPython.core.display.Markdown object>"
      ]
     },
     "execution_count": 62,
     "metadata": {},
     "output_type": "execute_result"
    }
   ],
   "source": [
    "import io\n",
    "\n",
    "markdown_buffer = io.StringIO()\n",
    "\n",
    "# Print the text with footnote markers.\n",
    "markdown_buffer.write(\"Supported text:\\n\\n\")\n",
    "for support in supports:\n",
    "    markdown_buffer.write(\" * \")\n",
    "    markdown_buffer.write(\n",
    "        rc.content.parts[0].text[support.segment.start_index : support.segment.end_index]\n",
    "    )\n",
    "\n",
    "    for i in support.grounding_chunk_indices:\n",
    "        chunk = chunks[i].web\n",
    "        markdown_buffer.write(f\"<sup>[{i+1}]</sup>\")\n",
    "\n",
    "    markdown_buffer.write(\"\\n\\n\")\n",
    "\n",
    "\n",
    "# And print the footnotes.\n",
    "markdown_buffer.write(\"Citations:\\n\\n\")\n",
    "for i, chunk in enumerate(chunks, start=1):\n",
    "    markdown_buffer.write(f\"{i}. [{chunk.web.title}]({chunk.web.uri})\\n\")\n",
    "\n",
    "\n",
    "Markdown(markdown_buffer.getvalue())"
   ]
  },
  {
   "cell_type": "markdown",
   "metadata": {},
   "source": [
    "## Search with tools\n",
    "\n",
    "In this example, you'll use enable the Google Search grounding tool and the code generation tool across two steps. In the first step, the model will use Google Search to find the requested information and then in the follow-up question, it generates code to plot the results.\n",
    "\n",
    "This usage includes textual, visual and code parts, so first define a function to help visualise these."
   ]
  },
  {
   "cell_type": "code",
   "execution_count": 63,
   "metadata": {
    "execution": {
     "iopub.execute_input": "2025-04-03T10:06:32.137085Z",
     "iopub.status.busy": "2025-04-03T10:06:32.135955Z",
     "iopub.status.idle": "2025-04-03T10:06:32.144267Z",
     "shell.execute_reply": "2025-04-03T10:06:32.143171Z",
     "shell.execute_reply.started": "2025-04-03T10:06:32.137025Z"
    }
   },
   "outputs": [],
   "source": [
    "from IPython.display import display, Image, Markdown\n",
    "\n",
    "def show_response(response):\n",
    "    for p in response.candidates[0].content.parts:\n",
    "        if p.text:\n",
    "            display(Markdown(p.text))\n",
    "        elif p.inline_data:\n",
    "            display(Image(p.inline_data.data))\n",
    "        else:\n",
    "            print(p.to_json_dict())\n",
    "    \n",
    "        display(Markdown('----'))"
   ]
  },
  {
   "cell_type": "markdown",
   "metadata": {},
   "source": [
    "Now start a chat asking for some information. Here you provide the Google Search tool so that the model can look up data from Google's Search index."
   ]
  },
  {
   "cell_type": "code",
   "execution_count": 67,
   "metadata": {
    "execution": {
     "iopub.execute_input": "2025-04-03T10:06:57.315680Z",
     "iopub.status.busy": "2025-04-03T10:06:57.315140Z",
     "iopub.status.idle": "2025-04-03T10:06:59.731547Z",
     "shell.execute_reply": "2025-04-03T10:06:59.730267Z",
     "shell.execute_reply.started": "2025-04-03T10:06:57.315631Z"
    }
   },
   "outputs": [
    {
     "data": {
      "text/markdown": [
       "The top 10 countries in the medal tally for the 2024 Paris Olympics were:\n",
       "\n",
       "1.  United States: 40 Gold, 44 Silver, 42 Bronze (126 total)\n",
       "2.  China: 40 Gold, 27 Silver, 24 Bronze (91 total)\n",
       "3.  Japan: 20 Gold, 12 Silver, 13 Bronze (45 total)\n",
       "4.  Australia: 18 Gold, 19 Silver, 16 Bronze (53 total)\n",
       "5.  France: 16 Gold, 26 Silver, 22 Bronze (64 total)\n",
       "6.  Netherlands: 15 Gold, 7 Silver, 12 Bronze (34 total)\n",
       "7.  Great Britain: 14 Gold, 22 Silver, 29 Bronze (65 total)\n",
       "8.  Republic of Korea: 13 Gold, 9 Silver, 10 Bronze (32 total)\n",
       "9.  Italy: 12 Gold, 13 Silver, 15 Bronze (40 total)\n",
       "10. Germany: 12 Gold, 13 Silver, 8 Bronze (33 total)"
      ],
      "text/plain": [
       "<IPython.core.display.Markdown object>"
      ]
     },
     "metadata": {},
     "output_type": "display_data"
    },
    {
     "data": {
      "text/markdown": [
       "----"
      ],
      "text/plain": [
       "<IPython.core.display.Markdown object>"
      ]
     },
     "metadata": {},
     "output_type": "display_data"
    }
   ],
   "source": [
    "config_with_search = types.GenerateContentConfig(\n",
    "    tools=[types.Tool(google_search=types.GoogleSearch())],\n",
    "    temperature=0.0,\n",
    ")\n",
    "\n",
    "chat = client.chats.create(model='gemini-2.0-flash')\n",
    "\n",
    "response = chat.send_message(\n",
    "    message=\"What were the medal tallies, by top-10 countries, for the 2024 olympics?\",\n",
    "    config=config_with_search,\n",
    ")\n",
    "\n",
    "show_response(response)"
   ]
  },
  {
   "cell_type": "markdown",
   "metadata": {},
   "source": [
    "Continuing the chat, now ask the model to convert the data into a chart. The `code_execution` tool is able to generate code to draw charts, execute that code and return the image. You can see the executed code in the `executable_code` part of the response.\n",
    "\n",
    "Combining results from Google Search with tools like live plotting can enable very powerful use cases that require very little code to run."
   ]
  },
  {
   "cell_type": "code",
   "execution_count": 68,
   "metadata": {
    "execution": {
     "iopub.execute_input": "2025-04-03T10:06:59.733656Z",
     "iopub.status.busy": "2025-04-03T10:06:59.733330Z",
     "iopub.status.idle": "2025-04-03T10:07:04.594013Z",
     "shell.execute_reply": "2025-04-03T10:07:04.592928Z",
     "shell.execute_reply.started": "2025-04-03T10:06:59.733624Z"
    }
   },
   "outputs": [
    {
     "data": {
      "text/markdown": [
       "Okay, I can create a Seaborn chart visualizing the medal tallies for the top 10 countries in the 2024 Olympics. I'll break out the gold, silver, and bronze medals for each country.\n",
       "\n"
      ],
      "text/plain": [
       "<IPython.core.display.Markdown object>"
      ]
     },
     "metadata": {},
     "output_type": "display_data"
    },
    {
     "data": {
      "text/markdown": [
       "----"
      ],
      "text/plain": [
       "<IPython.core.display.Markdown object>"
      ]
     },
     "metadata": {},
     "output_type": "display_data"
    },
    {
     "name": "stdout",
     "output_type": "stream",
     "text": [
      "{'executable_code': {'code': \"import pandas as pd\\nimport seaborn as sns\\nimport matplotlib.pyplot as plt\\n\\n# Data for the medal tally\\ndata = {\\n    'Country': ['United States', 'China', 'Japan', 'Australia', 'France', 'Netherlands', 'Great Britain', 'Republic of Korea', 'Italy', 'Germany'],\\n    'Gold': [40, 40, 20, 18, 16, 15, 14, 13, 12, 12],\\n    'Silver': [44, 27, 12, 19, 26, 7, 22, 9, 13, 13],\\n    'Bronze': [42, 24, 13, 16, 22, 12, 29, 10, 15, 8],\\n    'Total': [126, 91, 45, 53, 64, 34, 65, 32, 40, 33]\\n}\\n\\ndf = pd.DataFrame(data)\\n\\n# Melt the dataframe to have a 'Medal' column\\ndf_melted = pd.melt(df, id_vars=['Country'], value_vars=['Gold', 'Silver', 'Bronze'], var_name='Medal', value_name='Count')\\n\\n# Create the bar plot\\nplt.figure(figsize=(14, 8))\\nsns.barplot(x='Country', y='Count', hue='Medal', data=df_melted, palette=['#FFD700', '#C0C0C0', '#CD7F32']) # Gold, Silver, Bronze colors\\nplt.title('2024 Olympics Medal Tally (Top 10 Countries)')\\nplt.xlabel('Country')\\nplt.ylabel('Medal Count')\\nplt.xticks(rotation=45, ha='right')\\nplt.tight_layout()\\nplt.show()\\n\", 'language': 'PYTHON'}}\n"
     ]
    },
    {
     "data": {
      "text/markdown": [
       "----"
      ],
      "text/plain": [
       "<IPython.core.display.Markdown object>"
      ]
     },
     "metadata": {},
     "output_type": "display_data"
    },
    {
     "data": {
      "image/png": "[encoded data removed]",
      "text/plain": [
       "<IPython.core.display.Image object>"
      ]
     },
     "metadata": {},
     "output_type": "display_data"
    },
    {
     "data": {
      "text/markdown": [
       "----"
      ],
      "text/plain": [
       "<IPython.core.display.Markdown object>"
      ]
     },
     "metadata": {},
     "output_type": "display_data"
    },
    {
     "data": {
      "text/markdown": [
       "The chart displays the medal distribution (Gold, Silver, and Bronze) for the top 10 countries at the 2024 Olympics. The United States and China lead in Gold medals. Great Britain has a high number of Bronze medals. The chart effectively visualizes the breakdown of medals for each country."
      ],
      "text/plain": [
       "<IPython.core.display.Markdown object>"
      ]
     },
     "metadata": {},
     "output_type": "display_data"
    },
    {
     "data": {
      "text/markdown": [
       "----"
      ],
      "text/plain": [
       "<IPython.core.display.Markdown object>"
      ]
     },
     "metadata": {},
     "output_type": "display_data"
    }
   ],
   "source": [
    "config_with_code = types.GenerateContentConfig(\n",
    "    tools=[types.Tool(code_execution=types.ToolCodeExecution())],\n",
    "    temperature=0.0,\n",
    ")\n",
    "\n",
    "response = chat.send_message(\n",
    "    message=\"Now plot this as a seaborn chart. Break out the medals too.\",\n",
    "    config=config_with_code,\n",
    ")\n",
    "\n",
    "show_response(response)"
   ]
  },
  {
   "cell_type": "markdown",
   "metadata": {
    "id": "Cp7gvdM-zOf0"
   },
   "source": [
    "## Further reading\n",
    "\n",
    "When using search grounding, there are some specific requirements that you must follow, including when and how to show search suggestions, and how to use the grounding links.  Be sure to read and follow the details in the [search grounding capability guide](https://ai.google.dev/gemini-api/docs/grounding) and the [search suggestions guide](https://ai.google.dev/gemini-api/docs/grounding/search-suggestions).\n",
    "\n",
    "Also check out some more compelling examples of using search grounding with the Live API in the [cookbook](https://github.com/google-gemini/cookbook/), like [this example that uses Google Maps to plot Search results on a map](https://github.com/google-gemini/cookbook/blob/main/examples/LiveAPI_plotting_and_mapping.ipynb) in an audio conversation, or [this example](https://github.com/google-gemini/cookbook/blob/main/examples/Search_grounding_for_research_report.ipynb) that builds a comprehensive research report.\n",
    "\n",
    "*- [Mark McD](https://linktr.ee/markmcd)*"
   ]
  }
 ],
 "metadata": {
  "colab": {
   "name": "day-4-google-search-grounding.ipynb",
   "toc_visible": true
  },
  "kaggle": {
   "accelerator": "none",
   "dataSources": [],
   "dockerImageVersionId": 30786,
   "isGpuEnabled": false,
   "isInternetEnabled": true,
   "language": "python",
   "sourceType": "notebook"
  },
  "kernelspec": {
   "display_name": "Python 3 (ipykernel)",
   "language": "python",
   "name": "python3"
  },
  "language_info": {
   "codemirror_mode": {
    "name": "ipython",
    "version": 3
   },
   "file_extension": ".py",
   "mimetype": "text/x-python",
   "name": "python",
   "nbconvert_exporter": "python",
   "pygments_lexer": "ipython3",
   "version": "3.12.3"
  }
 },
 "nbformat": 4,
 "nbformat_minor": 4
}
