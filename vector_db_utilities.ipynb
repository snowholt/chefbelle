{
 "cells": [
  {
   "cell_type": "markdown",
   "id": "59c58485",
   "metadata": {},
   "source": [
    "# Vector Database Utilities\n",
    "\n",
    "This notebook provides utility functions for exploring and understanding ChromaDB vector collections. These functions help with inspecting the schema and contents of vector databases used in the kitchen recipe analysis project."
   ]
  },
  {
   "cell_type": "code",
   "execution_count": null,
   "id": "c3cf837b",
   "metadata": {},
   "outputs": [],
   "source": [
    "import chromadb\n",
    "\n",
    "# Path to SQL database\n",
    "DB_PATH = \"final/kitchen_db.sqlite\"\n",
    "# Path to Vectorized database\n",
    "VECTOR_DB_PATH = \"final/vector_db\""
   ]
  },
  {
   "cell_type": "markdown",
   "id": "bcd13fc8",
   "metadata": {},
   "source": [
    "## Database Exploration Functions\n",
    "\n",
    "The following functions help explore the contents and structure of ChromaDB collections."
   ]
  },
  {
   "cell_type": "code",
   "execution_count": null,
   "id": "6d69feae",
   "metadata": {},
   "outputs": [],
   "source": [
    "def view_schema_info(collection_name: str, db_path: str = VECTOR_DB_PATH):\n",
    "    \"\"\"\n",
    "    View schema information for a collection (metadata fields and their data types).\n",
    "    \n",
    "    Args:\n",
    "        collection_name: Name of the collection to analyze\n",
    "        db_path: Path to the ChromaDB database\n",
    "    \"\"\"\n",
    "    client = chromadb.PersistentClient(path=db_path)\n",
    "    \n",
    "    try:\n",
    "        collection = client.get_collection(name=collection_name)\n",
    "    except ValueError as e:\n",
    "        print(f\"Collection '{collection_name}' not found. Error: {str(e)}\")\n",
    "        return None\n",
    "    \n",
    "    # Get a sample of records to analyze schema\n",
    "    try:\n",
    "        results = collection.get(\n",
    "            limit=100,\n",
    "            include=['metadatas']\n",
    "        )\n",
    "        \n",
    "        if not results['metadatas']:\n",
    "            print(f\"Collection '{collection_name}' is empty or has no metadata.\")\n",
    "            return None\n",
    "        \n",
    "        # Analyze metadata fields\n",
    "        print(f\"\\n=== Schema for '{collection_name}' collection ===\\n\")\n",
    "        print(\"Metadata fields:\")\n",
    "        \n",
    "        # Collect all possible keys and their types\n",
    "        all_keys = set()\n",
    "        key_types = {}\n",
    "        key_examples = {}\n",
    "        \n",
    "        for metadata in results['metadatas']:\n",
    "            for key, value in metadata.items():\n",
    "                all_keys.add(key)\n",
    "                \n",
    "                # Track the data type\n",
    "                value_type = type(value).__name__\n",
    "                if key not in key_types:\n",
    "                    key_types[key] = set()\n",
    "                key_types[key].add(value_type)\n",
    "                \n",
    "                # Store an example value\n",
    "                if key not in key_examples and value:\n",
    "                    example = str(value)\n",
    "                    if len(example) > 50:\n",
    "                        example = example[:50] + \"...\"\n",
    "                    key_examples[key] = example\n",
    "        \n",
    "        # Display the schema information\n",
    "        for key in sorted(all_keys):\n",
    "            types_str = \", \".join(key_types[key])\n",
    "            example = key_examples.get(key, \"N/A\")\n",
    "            print(f\"  - {key}: {types_str}\")\n",
    "            print(f\"    Example: {example}\")\n",
    "        \n",
    "        return key_types\n",
    "    \n",
    "    except Exception as e:\n",
    "        print(f\"Error getting schema info: {str(e)}\")\n",
    "        return None"
   ]
  },
  {
   "cell_type": "code",
   "execution_count": null,
   "id": "a0987ae2",
   "metadata": {},
   "outputs": [],
   "source": [
    "def collection_info(db_path: str = VECTOR_DB_PATH):\n",
    "    \"\"\"\n",
    "    A simple function to display basic information about all collections.\n",
    "    More robust against API changes than the other functions.\n",
    "    \n",
    "    Args:\n",
    "        db_path: Path to the ChromaDB database\n",
    "    \"\"\"\n",
    "    client = chromadb.PersistentClient(path=db_path)\n",
    "    \n",
    "    try:\n",
    "        collection_names = client.list_collections()\n",
    "        print(f\"Found {len(collection_names)} collections in {db_path}:\")\n",
    "        \n",
    "        for name in collection_names:\n",
    "            print(f\"\\nCollection: {name}\")\n",
    "            \n",
    "            try:\n",
    "                collection = client.get_collection(name=str(name))\n",
    "                \n",
    "                # Try to get count\n",
    "                try:\n",
    "                    count = collection.count(where={})\n",
    "                    print(f\"  Records: {count}\")\n",
    "                except:\n",
    "                    print(\"  Count: Could not retrieve\")\n",
    "                \n",
    "                # Try to get the first few items\n",
    "                try:\n",
    "                    first_items = collection.get(limit=3, include=[\"metadatas\"])\n",
    "                    print(f\"  Sample IDs: {first_items['ids']}\")\n",
    "                    \n",
    "                    # Show first item metadata as example\n",
    "                    if first_items['metadatas'] and len(first_items['metadatas']) > 0:\n",
    "                        print(\"  Sample metadata keys:\", list(first_items['metadatas'][0].keys()))\n",
    "                except:\n",
    "                    print(\"  Sample: Could not retrieve\")\n",
    "                    \n",
    "            except Exception as e:\n",
    "                print(f\"  Error accessing collection: {str(e)}\")\n",
    "        \n",
    "    except Exception as e:\n",
    "        print(f\"Error listing collections: {str(e)}\")"
   ]
  },
  {
   "cell_type": "markdown",
   "id": "6284be41",
   "metadata": {},
   "source": [
    "## Usage Examples\n",
    "\n",
    "Here are examples of how to use these utility functions to explore your vector database."
   ]
  },
  {
   "cell_type": "code",
   "execution_count": null,
   "id": "bf48cc6f",
   "metadata": {},
   "outputs": [],
   "source": [
    "# List all collections and their basic information\n",
    "collection_info()"
   ]
  },
  {
   "cell_type": "code",
   "execution_count": null,
   "id": "bf16ff6e",
   "metadata": {},
   "outputs": [],
   "source": [
    "# View detailed schema for a specific collection (replace 'recipes' with your collection name)\n",
    "view_schema_info('recipes')"
   ]
  }
 ],
 "metadata": {
  "language_info": {
   "name": "python"
  }
 },
 "nbformat": 4,
 "nbformat_minor": 5
}
